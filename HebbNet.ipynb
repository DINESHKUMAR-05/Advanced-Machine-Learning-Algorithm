{
 "cells": [
  {
   "cell_type": "code",
   "execution_count": 1,
   "id": "d95b6ebe",
   "metadata": {},
   "outputs": [],
   "source": [
    "import pandas as pd\n",
    "import numpy as np"
   ]
  },
  {
   "cell_type": "code",
   "execution_count": 2,
   "id": "97597c5d",
   "metadata": {},
   "outputs": [],
   "source": [
    "X = [[-1,-1],\n",
    "    [-1,1],\n",
    "    [1,-1],\n",
    "    [1,1]]\n",
    "\n",
    "y = [-1,-1,-1,1]"
   ]
  },
  {
   "cell_type": "code",
   "execution_count": 3,
   "id": "19d737d4",
   "metadata": {},
   "outputs": [],
   "source": [
    "w1,w2=0,0"
   ]
  },
  {
   "cell_type": "code",
   "execution_count": 4,
   "id": "316c8b97",
   "metadata": {},
   "outputs": [],
   "source": [
    "def update_weight(old_weight,x,y):\n",
    "    change_in_weight = x*y\n",
    "    new_weight = old_weight + change_in_weight\n",
    "    return new_weight"
   ]
  },
  {
   "cell_type": "code",
   "execution_count": 5,
   "id": "3f5577b1",
   "metadata": {},
   "outputs": [
    {
     "name": "stdout",
     "output_type": "stream",
     "text": [
      "\n",
      "Iteration  1\n",
      "Prediction is  -1\n",
      "Weights before update are  0 0\n",
      "Updated weights are  1 1\n",
      "\n",
      "Iteration  2\n",
      "Prediction is  -1\n",
      "Weights before update are  1 1\n",
      "Updated weights are  2 0\n",
      "\n",
      "Iteration  3\n",
      "Prediction is  1\n",
      "Weights before update are  2 0\n",
      "Updated weights are  1 1\n",
      "\n",
      "Iteration  4\n",
      "Prediction is  1\n",
      "Weights before update are  1 1\n",
      "Updated weights are  2 2\n"
     ]
    }
   ],
   "source": [
    "for i in range(0,4):\n",
    "    print(\"\\nIteration \",i+1)\n",
    "    \n",
    "    y_pred = (X[i][0]*w1) + (X[i][1]*w2)\n",
    "    if y_pred == 0:\n",
    "        y_pred = -1\n",
    "    else:\n",
    "        y_pred = 1\n",
    "    \n",
    "    print(\"Prediction is \",y_pred)\n",
    "    \n",
    "    print(\"Weights before update are \",w1,w2)\n",
    "    \n",
    "    w1 = update_weight(w1, X[i][0], y[i])\n",
    "    w2 = update_weight(w2, X[i][1], y[i])\n",
    "    \n",
    "    print(\"Updated weights are \",w1,w2)"
   ]
  },
  {
   "cell_type": "code",
   "execution_count": null,
   "id": "d0b4a18b",
   "metadata": {},
   "outputs": [],
   "source": []
  }
 ],
 "metadata": {
  "kernelspec": {
   "display_name": "Python 3 (ipykernel)",
   "language": "python",
   "name": "python3"
  },
  "language_info": {
   "codemirror_mode": {
    "name": "ipython",
    "version": 3
   },
   "file_extension": ".py",
   "mimetype": "text/x-python",
   "name": "python",
   "nbconvert_exporter": "python",
   "pygments_lexer": "ipython3",
   "version": "3.9.7"
  }
 },
 "nbformat": 4,
 "nbformat_minor": 5
}
