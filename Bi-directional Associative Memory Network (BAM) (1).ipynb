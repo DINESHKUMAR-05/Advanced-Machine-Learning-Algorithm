{
 "cells": [
  {
   "cell_type": "code",
   "execution_count": 1,
   "id": "35a76fd6",
   "metadata": {},
   "outputs": [],
   "source": [
    "import numpy as np"
   ]
  },
  {
   "cell_type": "code",
   "execution_count": 2,
   "id": "8639d004",
   "metadata": {},
   "outputs": [],
   "source": [
    "input1=np.array([[1, 1, 1],\n",
    "      [1, -1, -1],\n",
    "      [1, 1, 1],\n",
    "      [1, -1, -1],\n",
    "      [1, 1, 1]])\n",
    "\n",
    "target1 = np.array([[-1, 1]])"
   ]
  },
  {
   "cell_type": "code",
   "execution_count": 3,
   "id": "8944ce42",
   "metadata": {},
   "outputs": [
    {
     "data": {
      "text/plain": [
       "array([ 1,  1,  1,  1, -1, -1,  1,  1,  1,  1, -1, -1,  1,  1,  1])"
      ]
     },
     "execution_count": 3,
     "metadata": {},
     "output_type": "execute_result"
    }
   ],
   "source": [
    "input1=input1.flatten()\n",
    "input1"
   ]
  },
  {
   "cell_type": "code",
   "execution_count": 4,
   "id": "c18be423",
   "metadata": {},
   "outputs": [
    {
     "data": {
      "text/plain": [
       "array([[ 1,  1,  1,  1, -1, -1,  1,  1,  1,  1, -1, -1,  1,  1,  1]])"
      ]
     },
     "execution_count": 4,
     "metadata": {},
     "output_type": "execute_result"
    }
   ],
   "source": [
    "input1=np.array([(input1)])\n",
    "input1"
   ]
  },
  {
   "cell_type": "code",
   "execution_count": 5,
   "id": "4a935d42",
   "metadata": {},
   "outputs": [
    {
     "data": {
      "text/plain": [
       "(1, 15)"
      ]
     },
     "execution_count": 5,
     "metadata": {},
     "output_type": "execute_result"
    }
   ],
   "source": [
    "input1.shape"
   ]
  },
  {
   "cell_type": "code",
   "execution_count": 6,
   "id": "397faea3",
   "metadata": {},
   "outputs": [
    {
     "data": {
      "text/plain": [
       "array([[-1,  1],\n",
       "       [-1,  1],\n",
       "       [-1,  1],\n",
       "       [-1,  1],\n",
       "       [ 1, -1],\n",
       "       [ 1, -1],\n",
       "       [-1,  1],\n",
       "       [-1,  1],\n",
       "       [-1,  1],\n",
       "       [-1,  1],\n",
       "       [ 1, -1],\n",
       "       [ 1, -1],\n",
       "       [-1,  1],\n",
       "       [-1,  1],\n",
       "       [-1,  1]])"
      ]
     },
     "execution_count": 6,
     "metadata": {},
     "output_type": "execute_result"
    }
   ],
   "source": [
    "w1=np.multiply((np.transpose(input1)),target1)\n",
    "w1"
   ]
  },
  {
   "cell_type": "code",
   "execution_count": 7,
   "id": "a74cee1f",
   "metadata": {},
   "outputs": [],
   "source": [
    "input2 = np.array([[1, 1, 1],\n",
    "               [1, -1, -1],\n",
    "               [1, 1, 1],\n",
    "               [1, -1, -1],\n",
    "               [1, -1, -1]])\n",
    "\n",
    "input2 = input2.flatten()\n",
    "input2 = np.array([input2])"
   ]
  },
  {
   "cell_type": "code",
   "execution_count": 8,
   "id": "9d9ea5fe",
   "metadata": {},
   "outputs": [
    {
     "data": {
      "text/plain": [
       "array([[ 1,  1],\n",
       "       [ 1,  1],\n",
       "       [ 1,  1],\n",
       "       [ 1,  1],\n",
       "       [-1, -1],\n",
       "       [-1, -1],\n",
       "       [ 1,  1],\n",
       "       [ 1,  1],\n",
       "       [ 1,  1],\n",
       "       [ 1,  1],\n",
       "       [-1, -1],\n",
       "       [-1, -1],\n",
       "       [ 1,  1],\n",
       "       [-1, -1],\n",
       "       [-1, -1]])"
      ]
     },
     "execution_count": 8,
     "metadata": {},
     "output_type": "execute_result"
    }
   ],
   "source": [
    "target2=np.array([[1,1]])\n",
    "w2=np.multiply(np.transpose(input2),target2)\n",
    "w2"
   ]
  },
  {
   "cell_type": "code",
   "execution_count": 9,
   "id": "553e3a4c",
   "metadata": {},
   "outputs": [
    {
     "data": {
      "text/plain": [
       "array([[ 0,  2],\n",
       "       [ 0,  2],\n",
       "       [ 0,  2],\n",
       "       [ 0,  2],\n",
       "       [ 0, -2],\n",
       "       [ 0, -2],\n",
       "       [ 0,  2],\n",
       "       [ 0,  2],\n",
       "       [ 0,  2],\n",
       "       [ 0,  2],\n",
       "       [ 0, -2],\n",
       "       [ 0, -2],\n",
       "       [ 0,  2],\n",
       "       [-2,  0],\n",
       "       [-2,  0]])"
      ]
     },
     "execution_count": 9,
     "metadata": {},
     "output_type": "execute_result"
    }
   ],
   "source": [
    "totalweight=w1+w2\n",
    "totalweight"
   ]
  },
  {
   "cell_type": "code",
   "execution_count": 10,
   "id": "8e023c05",
   "metadata": {},
   "outputs": [
    {
     "data": {
      "text/plain": [
       "array([[ 1,  1,  1,  1, -1, -1,  1,  1,  1,  1, -1, -1,  1,  1,  1]])"
      ]
     },
     "execution_count": 10,
     "metadata": {},
     "output_type": "execute_result"
    }
   ],
   "source": [
    "test1 = np.array([[1, 1, 1],\n",
    "                 [1, -1, -1],\n",
    "                 [1, 1, 1],\n",
    "                 [1, -1, -1],\n",
    "                 [1, 1, 1]])\n",
    "test1 = test1.flatten()\n",
    "test1 = np.array([test1])\n",
    "test1"
   ]
  },
  {
   "cell_type": "code",
   "execution_count": 11,
   "id": "054e03d1",
   "metadata": {},
   "outputs": [
    {
     "data": {
      "text/plain": [
       "dtype('int32')"
      ]
     },
     "execution_count": 11,
     "metadata": {},
     "output_type": "execute_result"
    }
   ],
   "source": [
    "test1.dtype"
   ]
  },
  {
   "cell_type": "code",
   "execution_count": 12,
   "id": "2c4b7593",
   "metadata": {},
   "outputs": [
    {
     "data": {
      "text/plain": [
       "dtype('int32')"
      ]
     },
     "execution_count": 12,
     "metadata": {},
     "output_type": "execute_result"
    }
   ],
   "source": [
    "totalweight.dtype"
   ]
  },
  {
   "cell_type": "code",
   "execution_count": 13,
   "id": "a5535e8d",
   "metadata": {},
   "outputs": [
    {
     "data": {
      "text/plain": [
       "array([[-4, 26]])"
      ]
     },
     "execution_count": 13,
     "metadata": {},
     "output_type": "execute_result"
    }
   ],
   "source": [
    "y1_in=np.matmul(test1,totalweight)\n",
    "y1_in"
   ]
  },
  {
   "cell_type": "code",
   "execution_count": 14,
   "id": "8661c0e0",
   "metadata": {},
   "outputs": [],
   "source": [
    "def activation_function(net_output):\n",
    "    for i in range(len(net_output)):\n",
    "        for j in range(len(net_output[i])):\n",
    "            if net_output[i][j] > 0:\n",
    "                net_output[i][j] = 1\n",
    "            else:\n",
    "                net_output[i][j] = -1\n",
    "    return net_output"
   ]
  },
  {
   "cell_type": "code",
   "execution_count": 15,
   "id": "7f35b4be",
   "metadata": {},
   "outputs": [
    {
     "data": {
      "text/plain": [
       "array([[-1,  1]])"
      ]
     },
     "execution_count": 15,
     "metadata": {},
     "output_type": "execute_result"
    }
   ],
   "source": [
    "output1 = activation_function(y1_in)\n",
    "output1"
   ]
  },
  {
   "cell_type": "code",
   "execution_count": null,
   "id": "e504e5a0",
   "metadata": {},
   "outputs": [],
   "source": []
  }
 ],
 "metadata": {
  "kernelspec": {
   "display_name": "Python 3 (ipykernel)",
   "language": "python",
   "name": "python3"
  },
  "language_info": {
   "codemirror_mode": {
    "name": "ipython",
    "version": 3
   },
   "file_extension": ".py",
   "mimetype": "text/x-python",
   "name": "python",
   "nbconvert_exporter": "python",
   "pygments_lexer": "ipython3",
   "version": "3.9.7"
  }
 },
 "nbformat": 4,
 "nbformat_minor": 5
}
