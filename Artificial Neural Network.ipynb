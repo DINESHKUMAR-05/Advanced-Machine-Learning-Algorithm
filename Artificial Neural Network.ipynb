{
 "cells": [
  {
   "cell_type": "code",
   "execution_count": 1,
   "id": "789e607d",
   "metadata": {},
   "outputs": [],
   "source": [
    "import numpy as np"
   ]
  },
  {
   "cell_type": "code",
   "execution_count": 2,
   "id": "734665a6",
   "metadata": {},
   "outputs": [],
   "source": [
    "ip1 =[0, 0, 1, 1, 0, 0,\n",
    "   0, 1, 0, 0, 1, 0,\n",
    "   1, 1, 1, 1, 1, 1,\n",
    "   1, 0, 0, 0, 0, 1,\n",
    "   1, 0, 0, 0, 0, 1]\n",
    "\n",
    "ip2 =[0, 1, 1, 1, 1, 0,\n",
    "   0, 1, 0, 0, 1, 0,\n",
    "   0, 1, 1, 1, 1, 0,\n",
    "   0, 1, 0, 0, 1, 0,\n",
    "   0, 1, 1, 1, 1, 0]\n",
    "\n",
    "ip3 =[0, 1, 1, 1, 1, 0,\n",
    "   0, 1, 0, 0, 0, 0,\n",
    "   0, 1, 0, 0, 0, 0,\n",
    "   0, 1, 0, 0, 0, 0,\n",
    "   0, 1, 1, 1, 1, 0]\n",
    " \n",
    "target =[[1, 0, 0],\n",
    "   [0, 1, 0],\n",
    "   [0, 0, 1]]"
   ]
  },
  {
   "cell_type": "code",
   "execution_count": 3,
   "id": "a5d5e36b",
   "metadata": {},
   "outputs": [
    {
     "name": "stdout",
     "output_type": "stream",
     "text": [
      "[array([[0, 0, 1, 1, 0, 0, 0, 1, 0, 0, 1, 0, 1, 1, 1, 1, 1, 1, 1, 0, 0, 0,\n",
      "        0, 1, 1, 0, 0, 0, 0, 1]]), array([[0, 1, 1, 1, 1, 0, 0, 1, 0, 0, 1, 0, 0, 1, 1, 1, 1, 0, 0, 1, 0, 0,\n",
      "        1, 0, 0, 1, 1, 1, 1, 0]]), array([[0, 1, 1, 1, 1, 0, 0, 1, 0, 0, 0, 0, 0, 1, 0, 0, 0, 0, 0, 1, 0, 0,\n",
      "        0, 0, 0, 1, 1, 1, 1, 0]])] \n",
      "\n",
      " [[1 0 0]\n",
      " [0 1 0]\n",
      " [0 0 1]]\n"
     ]
    }
   ],
   "source": [
    "x =[np.array(ip1).reshape(1,30),np.array(ip2).reshape(1,30),np.array(ip3).reshape(1,30)]\n",
    "y = np.array(target)\n",
    "print(x, \"\\n\\n\", y)"
   ]
  },
  {
   "cell_type": "raw",
   "id": "11f1975c",
   "metadata": {},
   "source": [
    "x =[[(ip1)],[(ip2)],[(ip3)]]\n",
    "y = np.array(target)\n",
    "print(x, \"\\n\\n\", y)"
   ]
  },
  {
   "cell_type": "code",
   "execution_count": 4,
   "id": "ce75e67b",
   "metadata": {},
   "outputs": [
    {
     "data": {
      "text/plain": [
       "-1.2748143219614605"
      ]
     },
     "execution_count": 4,
     "metadata": {},
     "output_type": "execute_result"
    }
   ],
   "source": [
    "np.random.randn()"
   ]
  },
  {
   "cell_type": "code",
   "execution_count": 5,
   "id": "2e287159",
   "metadata": {},
   "outputs": [],
   "source": [
    "def sigmoid(x):\n",
    "    return(1/(1 + np.exp(-x)))\n",
    "\n",
    "def f_forward(x, w1, w2):\n",
    "    z1 = x.dot(w1)\n",
    "    a1 = sigmoid(z1)\n",
    "     \n",
    "    z2 = a1.dot(w2)\n",
    "    a2 = sigmoid(z2)\n",
    "    return(a2)\n",
    "\n",
    "def generate_wt(x, y):\n",
    "    l =[]\n",
    "    for i in range(x * y):\n",
    "        l.append(np.random.randn())\n",
    "    return(np.array(l).reshape(x, y))\n",
    "\n",
    "def loss_function(out, Y):\n",
    "    s =(np.square(out-Y))\n",
    "    s = np.sum(s)/len(y)\n",
    "    return(s)\n",
    "   \n",
    "\n",
    "def back_propagation(x, y, w1, w2, alpha):\n",
    "     \n",
    "    # hidden layer\n",
    "    z1 = x.dot(w1)# input from layer 1\n",
    "    a1 = sigmoid(z1)# output of layer 2\n",
    "     \n",
    "    # Output layer\n",
    "    z2 = a1.dot(w2)# input of out layer\n",
    "    a2 = sigmoid(z2)# output of out layer\n",
    "    \n",
    "    # error in output layer\n",
    "    d2 =(a2-y)\n",
    "    d1 = np.multiply((w2.dot((d2.transpose()))).transpose(),\n",
    "                                   (np.multiply(a1, 1-a1)))\n",
    " \n",
    "    # Gradient for w1 and w2\n",
    "    w1_adj = x.transpose().dot(d1)\n",
    "    w2_adj = a1.transpose().dot(d2)\n",
    "     \n",
    "    # Updating parameters\n",
    "    w1 = w1-(alpha*(w1_adj))\n",
    "    w2 = w2-(alpha*(w2_adj))\n",
    "     \n",
    "    return(w1, w2)\n",
    " \n",
    "def training(x, Y, w1, w2, alpha = 0.01, epoch = 10):\n",
    "    acc =[]\n",
    "    losss =[]\n",
    "    for j in range(epoch):\n",
    "        l =[]\n",
    "        for i in range(len(x)):\n",
    "            out = f_forward(x[i], w1, w2)\n",
    "            l.append((loss_function(out, Y[i])))\n",
    "            w1, w2 = back_propagation(x[i], y[i], w1, w2, alpha)\n",
    "        print(\"epochs:\", j + 1, \"======== acc:\", (1-(sum(l)/len(x)))*100)  \n",
    "        acc.append((1-(sum(l)/len(x)))*100)\n",
    "        losss.append(sum(l)/len(x))\n",
    "    return(acc, losss, w1, w2)\n",
    "  \n",
    "def predict(x, w1, w2):\n",
    "    Out = f_forward(x, w1, w2)\n",
    "    maxm = 0\n",
    "    k = 0\n",
    "    for i in range(len(Out[0])):\n",
    "        if(maxm<Out[0][i]):\n",
    "            maxm = Out[0][i]\n",
    "            k = i\n",
    "    if(k == 0):\n",
    "        print(\"Belongs to Class 1\")\n",
    "    elif(k == 1):\n",
    "        print(\"Belongs to Class 2\")\n",
    "    else:\n",
    "        print(\"Belongs to Class 3\")\n",
    "    plt.imshow(x.reshape(5, 6))\n",
    "    plt.show()   \n",
    "   \n",
    "  "
   ]
  },
  {
   "cell_type": "code",
   "execution_count": 6,
   "id": "3d447d89",
   "metadata": {},
   "outputs": [
    {
     "name": "stdout",
     "output_type": "stream",
     "text": [
      "[[ 0.31148255 -1.00728546 -2.00519412 -0.3278942   0.16432948]\n",
      " [-0.37091519  1.59581369  0.2202358   1.5010441  -0.0666417 ]\n",
      " [ 0.05951928  1.06862948  1.18469    -0.71264167  0.1618424 ]\n",
      " [-0.36179256 -0.95992206  1.47855211  0.63973117  0.54195414]\n",
      " [-1.01140604 -1.19977371  0.87175551 -1.15730165  0.69194542]\n",
      " [ 0.85806216 -0.34751788  0.86211805  1.40253026 -0.30205607]\n",
      " [ 0.35361122 -0.81748729 -0.40952438  0.22904894 -0.67390062]\n",
      " [-3.34986691 -0.97533258 -0.19904465 -1.00473334  0.13247931]\n",
      " [ 0.19185859  0.5355284  -0.44129096  0.50627497 -0.85272715]\n",
      " [ 0.75392367  0.56139446 -0.41338126 -0.19766523  0.9532932 ]\n",
      " [-2.08285589 -0.66644263  0.01691769  0.54291475  0.37463807]\n",
      " [-0.08530967 -1.42788963 -0.85766988  0.16230769  1.14903975]\n",
      " [-1.46668621  0.19735622  0.07801184 -0.40370605  0.02693879]\n",
      " [ 1.76548697 -0.52209027  1.91829555  0.00977204 -2.51950525]\n",
      " [-0.69095164  0.16871636 -0.25295599  0.03057418  0.83458565]\n",
      " [ 0.87570694 -1.60655036  1.82799001 -0.90838644  0.94794683]\n",
      " [-1.34156418 -0.26566781  1.01098539  0.93614434 -1.26931107]\n",
      " [ 1.63880105  1.53912123  0.12708855 -1.29353151 -0.65110206]\n",
      " [ 0.92811172  2.01955944  1.67359754 -0.98953818  1.62478451]\n",
      " [-1.73094971  0.49394816 -1.5511012  -1.32894505  0.78446527]\n",
      " [ 0.19467759 -0.01394559 -1.29509777 -3.0511982   1.14393854]\n",
      " [-1.82040445 -0.91701884  0.39802713 -0.07473545 -0.45757655]\n",
      " [ 0.04647449  1.06009577 -0.50531038 -0.19613676  1.96339661]\n",
      " [-0.17492747 -1.84259145 -1.10750173 -0.70172055  1.24663572]\n",
      " [ 1.6104309   0.78429062 -0.80910898 -0.37411781  0.09668511]\n",
      " [-0.27510463 -1.17531976 -1.64676615 -0.87499952 -1.01403319]\n",
      " [-1.61568854  0.22149569  1.64069945 -2.20988005  1.10552336]\n",
      " [ 0.99886595 -1.38729266  0.18400935 -2.28464926 -0.97721453]\n",
      " [ 1.51180435  0.20723378 -0.32569947 -0.94142712  2.10311367]\n",
      " [ 0.02066696  1.59372043  1.57595383  0.87126508  0.32521587]] \n",
      "\n",
      " [[ 0.18775345  0.44624201 -0.71437386]\n",
      " [-0.9023099  -0.20939435 -0.79458421]\n",
      " [-2.08048278 -0.43212741  0.41342023]\n",
      " [-0.73525959 -0.28829832 -2.6532138 ]\n",
      " [-0.86366555 -0.46587601  0.21255744]]\n"
     ]
    }
   ],
   "source": [
    "w1 = generate_wt(30, 5)\n",
    "w2 = generate_wt(5, 3)\n",
    "print(w1, \"\\n\\n\", w2)"
   ]
  },
  {
   "cell_type": "code",
   "execution_count": 7,
   "id": "2beed887",
   "metadata": {},
   "outputs": [
    {
     "name": "stdout",
     "output_type": "stream",
     "text": [
      "epochs: 1 ======== acc: 72.62837407414395\n",
      "epochs: 2 ======== acc: 73.30497839119032\n",
      "epochs: 3 ======== acc: 73.86946918348094\n",
      "epochs: 4 ======== acc: 74.34819463578077\n",
      "epochs: 5 ======== acc: 74.76146057281719\n",
      "epochs: 6 ======== acc: 75.12418433967267\n",
      "epochs: 7 ======== acc: 75.44711089792784\n",
      "epochs: 8 ======== acc: 75.73803351248198\n",
      "epochs: 9 ======== acc: 76.00279757848693\n",
      "epochs: 10 ======== acc: 76.24603945399826\n",
      "epochs: 11 ======== acc: 76.47168778194249\n",
      "epochs: 12 ======== acc: 76.68327943336001\n",
      "epochs: 13 ======== acc: 76.88414260832559\n",
      "epochs: 14 ======== acc: 77.07748992519166\n",
      "epochs: 15 ======== acc: 77.26645188599963\n",
      "epochs: 16 ======== acc: 77.45406966997882\n",
      "epochs: 17 ======== acc: 77.6432575704275\n",
      "epochs: 18 ======== acc: 77.83674038550411\n",
      "epochs: 19 ======== acc: 78.03697005150953\n",
      "epochs: 20 ======== acc: 78.24602860650074\n",
      "epochs: 21 ======== acc: 78.46553009046154\n",
      "epochs: 22 ======== acc: 78.69653974700317\n",
      "epochs: 23 ======== acc: 78.93953126543306\n",
      "epochs: 24 ======== acc: 79.19439847940978\n",
      "epochs: 25 ======== acc: 79.46052625817826\n",
      "epochs: 26 ======== acc: 79.73690980056432\n",
      "epochs: 27 ======== acc: 80.02229865229155\n",
      "epochs: 28 ======== acc: 80.31533716627098\n",
      "epochs: 29 ======== acc: 80.61467809410938\n",
      "epochs: 30 ======== acc: 80.91905710581845\n",
      "epochs: 31 ======== acc: 81.22732793105253\n",
      "epochs: 32 ======== acc: 81.53846641671917\n",
      "epochs: 33 ======== acc: 81.85155563086954\n",
      "epochs: 34 ======== acc: 82.16576380163623\n",
      "epochs: 35 ======== acc: 82.48032383909411\n",
      "epochs: 36 ======== acc: 82.79451898997809\n",
      "epochs: 37 ======== acc: 83.10767513112137\n",
      "epochs: 38 ======== acc: 83.41915733415243\n",
      "epochs: 39 ======== acc: 83.72836726536293\n",
      "epochs: 40 ======== acc: 84.03473881604104\n",
      "epochs: 41 ======== acc: 84.3377315520825\n",
      "epochs: 42 ======== acc: 84.63682406797936\n",
      "epochs: 43 ======== acc: 84.9315109090845\n",
      "epochs: 44 ======== acc: 85.221306517379\n",
      "epochs: 45 ======== acc: 85.50575758604654\n",
      "epochs: 46 ======== acc: 85.78446212065222\n",
      "epochs: 47 ======== acc: 86.05709080048285\n",
      "epochs: 48 ======== acc: 86.32340514959742\n",
      "epochs: 49 ======== acc: 86.58326797299307\n",
      "epochs: 50 ======== acc: 86.8366439090992\n",
      "epochs: 51 ======== acc: 87.08359065568584\n",
      "epochs: 52 ======== acc: 87.32424341531505\n",
      "epochs: 53 ======== acc: 87.55879591477888\n",
      "epochs: 54 ======== acc: 87.78748110402648\n",
      "epochs: 55 ======== acc: 88.01055377729955\n",
      "epochs: 56 ======== acc: 88.22827634424742\n",
      "epochs: 57 ======== acc: 88.44090811883267\n",
      "epochs: 58 ======== acc: 88.64869791324753\n",
      "epochs: 59 ======== acc: 88.85187941718186\n",
      "epochs: 60 ======== acc: 89.0506687423806\n",
      "epochs: 61 ======== acc: 89.24526353980713\n",
      "epochs: 62 ======== acc: 89.4358431870892\n",
      "epochs: 63 ======== acc: 89.62256965357753\n",
      "epochs: 64 ======== acc: 89.80558875451813\n",
      "epochs: 65 ======== acc: 89.98503159330632\n",
      "epochs: 66 ======== acc: 90.16101605863102\n",
      "epochs: 67 ======== acc: 90.33364829295184\n",
      "epochs: 68 ======== acc: 90.50302408337777\n",
      "epochs: 69 ======== acc: 90.66923014917543\n",
      "epochs: 70 ======== acc: 90.83234531499814\n",
      "epochs: 71 ======== acc: 90.99244156805604\n",
      "epochs: 72 ======== acc: 91.14958500275836\n",
      "epochs: 73 ======== acc: 91.30383665922277\n",
      "epochs: 74 ======== acc: 91.45525326339697\n",
      "epochs: 75 ======== acc: 91.6038878769904\n",
      "epochs: 76 ======== acc: 91.74979046535898\n",
      "epochs: 77 ======== acc: 91.89300839116291\n",
      "epochs: 78 ======== acc: 92.03358684116789\n",
      "epochs: 79 ======== acc: 92.1715691930617\n",
      "epochs: 80 ======== acc: 92.3069973286537\n",
      "epochs: 81 ======== acc: 92.43991189933385\n",
      "epochs: 82 ======== acc: 92.57035254919916\n",
      "epochs: 83 ======== acc: 92.69835810081088\n",
      "epochs: 84 ======== acc: 92.82396670812538\n",
      "epochs: 85 ======== acc: 92.94721598074432\n",
      "epochs: 86 ======== acc: 93.06814308325325\n",
      "epochs: 87 ======== acc: 93.18678481306361\n",
      "epochs: 88 ======== acc: 93.30317765983719\n",
      "epochs: 89 ======== acc: 93.41735784925784\n",
      "epochs: 90 ======== acc: 93.52936137361988\n",
      "epochs: 91 ======== acc: 93.63922401142726\n",
      "epochs: 92 ======== acc: 93.74698133794223\n",
      "epochs: 93 ======== acc: 93.85266872838606\n",
      "epochs: 94 ======== acc: 93.9563213552777\n",
      "epochs: 95 ======== acc: 94.05797418119815\n",
      "epochs: 96 ======== acc: 94.15766194808903\n",
      "epochs: 97 ======== acc: 94.25541916403068\n",
      "epochs: 98 ======== acc: 94.35128008829975\n",
      "epochs: 99 ======== acc: 94.44527871537613\n",
      "epochs: 100 ======== acc: 94.53744875845312\n"
     ]
    }
   ],
   "source": [
    "acc, losss, w1, w2 = training(x, y, w1, w2, 0.1, 100)"
   ]
  },
  {
   "cell_type": "code",
   "execution_count": 8,
   "id": "cc839f5b",
   "metadata": {},
   "outputs": [
    {
     "data": {
      "image/png": "[encoded data removed]",
      "text/plain": [
       "<Figure size 432x288 with 1 Axes>"
      ]
     },
     "metadata": {
      "needs_background": "light"
     },
     "output_type": "display_data"
    },
    {
     "data": {
      "image/png": "[encoded data removed]",
      "text/plain": [
       "<Figure size 432x288 with 1 Axes>"
      ]
     },
     "metadata": {
      "needs_background": "light"
     },
     "output_type": "display_data"
    }
   ],
   "source": [
    "import matplotlib.pyplot as plt1\n",
    " \n",
    "# ploting accuracy\n",
    "plt1.plot(acc)\n",
    "plt1.ylabel('Accuracy')\n",
    "plt1.xlabel(\"Epochs:\")\n",
    "plt1.show()\n",
    " \n",
    "# plotting Loss\n",
    "plt1.plot(losss)\n",
    "plt1.ylabel('Loss')\n",
    "plt1.xlabel(\"Epochs:\")\n",
    "plt1.show()"
   ]
  },
  {
   "cell_type": "code",
   "execution_count": 9,
   "id": "c73393cf",
   "metadata": {},
   "outputs": [
    {
     "name": "stdout",
     "output_type": "stream",
     "text": [
      "[[ 0.31148255 -1.00728546 -2.00519412 -0.3278942   0.16432948]\n",
      " [-0.48288986  1.3545525   0.29690282  1.50214218 -0.32724093]\n",
      " [ 0.37255991  1.14924988  1.26047465 -0.64531075 -0.27049277]\n",
      " [-0.04875193 -0.87930167  1.55433676  0.7070621   0.10961898]\n",
      " [-1.12338072 -1.4410349   0.94842253 -1.15620357  0.43134619]\n",
      " [ 0.85806216 -0.34751788  0.86211805  1.40253026 -0.30205607]\n",
      " [ 0.35361122 -0.81748729 -0.40952438  0.22904894 -0.67390062]\n",
      " [-3.03682628 -0.89471219 -0.12326001 -0.93740241 -0.29985585]\n",
      " [ 0.19185859  0.5355284  -0.44129096  0.50627497 -0.85272715]\n",
      " [ 0.75392367  0.56139446 -0.41338126 -0.19766523  0.9532932 ]\n",
      " [-1.65752924 -0.41090394  0.01380854  0.61334617  0.77172309]\n",
      " [-0.08530967 -1.42788963 -0.85766988  0.16230769  1.14903975]\n",
      " [-1.04167091  0.5192378   0.07712947 -0.33747321 -0.14479715]\n",
      " [ 2.0785276  -0.44146987  1.9940802   0.07710297 -2.95184041]\n",
      " [-0.26562499  0.42425505 -0.25606513  0.1010056   1.23167068]\n",
      " [ 1.3010336  -1.35101167  1.82488087 -0.83795502  1.34503186]\n",
      " [-0.91623752 -0.01012911  1.00787624  1.00657576 -0.87222604]\n",
      " [ 2.06381635  1.86100282  0.12620618 -1.22729867 -0.82283799]\n",
      " [ 1.35312702  2.34144102  1.67271517 -0.92330534  1.45304858]\n",
      " [-1.84292439  0.25268697 -1.47443419 -1.32784697  0.52386604]\n",
      " [ 0.19467759 -0.01394559 -1.29509777 -3.0511982   1.14393854]\n",
      " [-1.82040445 -0.91701884  0.39802713 -0.07473545 -0.45757655]\n",
      " [ 0.04678584  0.99375287 -0.50753715 -0.19193818  2.53221757]\n",
      " [ 0.25008784 -1.52070987 -1.1083841  -0.63548771  1.07489979]\n",
      " [ 2.0354462   1.1061722  -0.80999135 -0.30788497 -0.07505082]\n",
      " [-0.38707931 -1.41658095 -1.57009913 -0.87390144 -1.27463242]\n",
      " [-1.72766322 -0.0197655   1.71736647 -2.20878196  0.84492413]\n",
      " [ 0.88689127 -1.62855384  0.26067637 -2.28355117 -1.23781376]\n",
      " [ 1.39982968 -0.0340274  -0.24903245 -0.94032903  1.84251444]\n",
      " [ 0.44568226  1.91560201  1.57507146  0.93749792  0.15347994]] \n",
      " [[ 1.73871674 -0.56375449 -1.0182397 ]\n",
      " [ 2.29123137 -1.94453063 -1.56231109]\n",
      " [-1.87267357 -0.85232462  0.74375929]\n",
      " [-0.50233519 -0.40588587 -2.71833068]\n",
      " [-0.23355005  1.6833949  -2.07222634]]\n"
     ]
    }
   ],
   "source": [
    "# the trained weights are\n",
    "print(w1, \"\\n\", w2)"
   ]
  },
  {
   "cell_type": "code",
   "execution_count": null,
   "id": "d85b0462",
   "metadata": {},
   "outputs": [],
   "source": []
  }
 ],
 "metadata": {
  "kernelspec": {
   "display_name": "Python 3 (ipykernel)",
   "language": "python",
   "name": "python3"
  },
  "language_info": {
   "codemirror_mode": {
    "name": "ipython",
    "version": 3
   },
   "file_extension": ".py",
   "mimetype": "text/x-python",
   "name": "python",
   "nbconvert_exporter": "python",
   "pygments_lexer": "ipython3",
   "version": "3.9.7"
  }
 },
 "nbformat": 4,
 "nbformat_minor": 5
}
