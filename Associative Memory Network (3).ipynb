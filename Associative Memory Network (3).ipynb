{
 "cells": [
  {
   "cell_type": "code",
   "execution_count": 1,
   "id": "c2e4c979",
   "metadata": {},
   "outputs": [],
   "source": [
    "import numpy as np"
   ]
  },
  {
   "cell_type": "code",
   "execution_count": 2,
   "id": "6744d4e0",
   "metadata": {},
   "outputs": [],
   "source": [
    "p1 = np.array([[1, 0, 0, 0]])\n",
    "p2 = np.array([[1, 1, 0, 0]])\n",
    "p3 = np.array([[0, 0, 0, 1]])\n",
    "p4 = np.array([[0, 0, 1, 1]])\n",
    "\n",
    "t1 = np.array([[1, 0]])\n",
    "t2 = np.array([[1, 0]])\n",
    "t3 = np.array([[0, 1]])\n",
    "t4 = np.array([[0, 1]])"
   ]
  },
  {
   "cell_type": "code",
   "execution_count": 3,
   "id": "d265042a",
   "metadata": {},
   "outputs": [],
   "source": [
    "p1_t = np.transpose(p1)\n",
    "p2_t = np.transpose(p2)\n",
    "p3_t = np.transpose(p3)\n",
    "p4_t = np.transpose(p4)"
   ]
  },
  {
   "cell_type": "code",
   "execution_count": 4,
   "id": "685187cc",
   "metadata": {},
   "outputs": [],
   "source": [
    "w1 = np.matmul(p1_t, t1)\n",
    "w2 = np.matmul(p2_t, t2)\n",
    "w3 = np.matmul(p3_t, t3)\n",
    "w4 = np.matmul(p4_t, t4)"
   ]
  },
  {
   "cell_type": "code",
   "execution_count": 5,
   "id": "600f9d55",
   "metadata": {},
   "outputs": [
    {
     "data": {
      "text/plain": [
       "array([[2, 0],\n",
       "       [1, 0],\n",
       "       [0, 1],\n",
       "       [0, 2]])"
      ]
     },
     "execution_count": 5,
     "metadata": {},
     "output_type": "execute_result"
    }
   ],
   "source": [
    "total_weight = w1+w2+w3+w4\n",
    "total_weight"
   ]
  },
  {
   "cell_type": "code",
   "execution_count": 6,
   "id": "ae943d88",
   "metadata": {},
   "outputs": [],
   "source": [
    "test1 = np.array([[1, 0, 0, 0]])"
   ]
  },
  {
   "cell_type": "code",
   "execution_count": 7,
   "id": "03ed9a10",
   "metadata": {},
   "outputs": [],
   "source": [
    "def activation_function(net_output):\n",
    "    for i in range(len(net_output)):\n",
    "        for j in range(len(net_output[i])):\n",
    "            if net_output[i][j] > 0:\n",
    "                net_output[i][j] = 1\n",
    "            else:\n",
    "                net_output[i][j] = 0\n",
    "    return net_output"
   ]
  },
  {
   "cell_type": "code",
   "execution_count": 8,
   "id": "27ebebea",
   "metadata": {},
   "outputs": [
    {
     "data": {
      "text/plain": [
       "array([[2, 0]])"
      ]
     },
     "execution_count": 8,
     "metadata": {},
     "output_type": "execute_result"
    }
   ],
   "source": [
    "net_output = np.matmul(test1,total_weight)\n",
    "net_output"
   ]
  },
  {
   "cell_type": "code",
   "execution_count": 9,
   "id": "51cfc21f",
   "metadata": {},
   "outputs": [
    {
     "data": {
      "text/plain": [
       "array([[1, 0]])"
      ]
     },
     "execution_count": 9,
     "metadata": {},
     "output_type": "execute_result"
    }
   ],
   "source": [
    "output = activation_function(net_output)\n",
    "output"
   ]
  },
  {
   "cell_type": "code",
   "execution_count": 10,
   "id": "356a266c",
   "metadata": {},
   "outputs": [],
   "source": [
    "S=[[1,1,1,-1],[1,1,1,-1],[1,1,1,-1],[-1,-1,-1,1]]\n",
    "w=np.matmul(np.transpose(S),[1,1,1,-1])"
   ]
  },
  {
   "cell_type": "code",
   "execution_count": 11,
   "id": "8b97cf1f",
   "metadata": {},
   "outputs": [
    {
     "data": {
      "text/plain": [
       "array([ 4,  4,  4, -4])"
      ]
     },
     "execution_count": 11,
     "metadata": {},
     "output_type": "execute_result"
    }
   ],
   "source": [
    "w"
   ]
  },
  {
   "cell_type": "code",
   "execution_count": 14,
   "id": "b79c0fe6",
   "metadata": {},
   "outputs": [
    {
     "data": {
      "text/plain": [
       "[array([1, 1, 1, 0])]"
      ]
     },
     "execution_count": 14,
     "metadata": {},
     "output_type": "execute_result"
    }
   ],
   "source": [
    "output = activation_function([w])\n",
    "output"
   ]
  },
  {
   "cell_type": "code",
   "execution_count": null,
   "id": "84cdef88",
   "metadata": {},
   "outputs": [],
   "source": []
  }
 ],
 "metadata": {
  "kernelspec": {
   "display_name": "Python 3 (ipykernel)",
   "language": "python",
   "name": "python3"
  },
  "language_info": {
   "codemirror_mode": {
    "name": "ipython",
    "version": 3
   },
   "file_extension": ".py",
   "mimetype": "text/x-python",
   "name": "python",
   "nbconvert_exporter": "python",
   "pygments_lexer": "ipython3",
   "version": "3.9.7"
  }
 },
 "nbformat": 4,
 "nbformat_minor": 5
}
